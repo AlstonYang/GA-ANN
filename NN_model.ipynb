{
 "cells": [
  {
   "cell_type": "code",
   "execution_count": 2,
   "metadata": {},
   "outputs": [
    {
     "data": {
      "text/plain": [
       "'\\nUtility used by the Network class to actually train.\\n\\n'"
      ]
     },
     "execution_count": 2,
     "metadata": {},
     "output_type": "execute_result"
    }
   ],
   "source": [
    "\"\"\"\n",
    "Utility used by the Network class to actually train.\n",
    "\n",
    "\"\"\""
   ]
  },
  {
   "cell_type": "code",
   "execution_count": 9,
   "metadata": {},
   "outputs": [],
   "source": [
    "import tensorflow as tf\n",
    "import tensorflow.keras as keras\n",
    "from tensorflow.keras.models import Sequential\n",
    "from tensorflow.keras.layers import Dense, Dropout\n",
    "from tensorflow.keras.callbacks import EarlyStopping"
   ]
  },
  {
   "cell_type": "markdown",
   "metadata": {},
   "source": [
    "### Control the upper limit of GPU memory"
   ]
  },
  {
   "cell_type": "code",
   "execution_count": 10,
   "metadata": {},
   "outputs": [],
   "source": [
    "gpu_options = tf.compat.v1.GPUOptions(per_process_gpu_memory_fraction=0.3)\n",
    "sess = tf.compat.v1.Session(config=tf.compat.v1.ConfigProto(gpu_options=gpu_options))\n",
    "tf.compat.v1.keras.backend.set_session(sess)"
   ]
  },
  {
   "cell_type": "markdown",
   "metadata": {},
   "source": [
    "### Set the stop criteria"
   ]
  },
  {
   "cell_type": "code",
   "execution_count": 11,
   "metadata": {},
   "outputs": [],
   "source": [
    "early_stopper = EarlyStopping(patience=5)"
   ]
  },
  {
   "cell_type": "code",
   "execution_count": 2,
   "metadata": {},
   "outputs": [
    {
     "name": "stdout",
     "output_type": "stream",
     "text": [
      "INFO:tensorflow:Enabling eager execution\n",
      "INFO:tensorflow:Enabling v2 tensorshape\n",
      "INFO:tensorflow:Enabling resource variables\n",
      "INFO:tensorflow:Enabling tensor equality\n",
      "INFO:tensorflow:Enabling control flow v2\n"
     ]
    }
   ],
   "source": [
    "from tensorflow.keras.metrics import Metric\n",
    "from tensorflow.python.ops import init_ops\n",
    "from tensorflow.python.ops import math_ops\n",
    "from tensorflow.python.ops import array_ops"
   ]
  },
  {
   "cell_type": "code",
   "execution_count": 3,
   "metadata": {},
   "outputs": [],
   "source": [
    "class DINKLE_Accuracy(Metric):\n",
    "\n",
    "    def __init__(self, name=\"DINKLE_Accuracy\", **kwargs):\n",
    "        super(Metric, self).__init__(name=name, **kwargs)\n",
    "#         self.total_count = self.add_weight(name = \"total_count\", initializer=init_ops.zeros_initializer)\n",
    "#         self.match_count = self.add_weight(name = \"match_count\", initializer=init_ops.zeros_initializer)\n",
    "        self.matches_rate = self.add_weight(name = \"matches_rate\", initializer=\"zeros\")\n",
    "\n",
    "    def update_state(self, y_true, y_pred, sample_weight=None):\n",
    "        \n",
    "#         y_true = tf.convert_to_tensor(sc.inverse_transform(y_true))\n",
    "#         y_pred = tf.convert_to_tensor(sc.inverse_transform(y_pred))\n",
    "            \n",
    "        match_count = tf.reduce_sum(tf.cast(tf.less_equal(tf.abs(y_true- y_pred), 0.02), dtype = tf.float32))\n",
    "        total_count = y_true.shape[0]\n",
    "        self.matches_rate = math_ops.div_no_nan(match_count, total_count)\n",
    "\n",
    "         \n",
    "    def result(self):\n",
    "        return  self.matches_rate\n",
    "    \n",
    "    def reset_state(self):\n",
    "        self.matches_rate = tf.zeros(shape=(1, 1))"
   ]
  },
  {
   "cell_type": "code",
   "execution_count": null,
   "metadata": {},
   "outputs": [],
   "source": [
    "# def precision(y_true, y_pred, bound=3000):\n",
    "#     # Calculates the precision\n",
    "    \n",
    "#     correct_times = tf.reduce_sum(tf.cast(tf.less_equal(tf.abs(y_true- y_pred), 3000), dtype = tf.int32))     \n",
    "#     precision = correct_times/y_pred.shape[0]\n",
    "#     return precision\n",
    "# #     true_positives = K.sum(K.round(K.clip(y_true * y_pred, 0, 1)))\n",
    "# #     predicted_positives = K.sum(K.round(K.clip(y_pred, 0, 1)))\n",
    "# #     precision = true_positives / (predicted_positives + K.epsilon())\n",
    "# #     return precision"
   ]
  },
  {
   "cell_type": "code",
   "execution_count": null,
   "metadata": {},
   "outputs": [],
   "source": [
    "def compile_model(network, nb_ouput, input_shape):\n",
    "    \"\"\"Compile a sequential model.\n",
    "    Args:\n",
    "        network (dict): the parameters of the network\n",
    "    Returns:\n",
    "        a compiled network.\n",
    "    \"\"\"\n",
    "    \n",
    "    # Get our network parameters.\n",
    "    nb_layers = network['nb_layers']\n",
    "    nb_neurons = network['nb_neurons']\n",
    "    activation = network['activation']\n",
    "    optimizer = network['optimizer']\n",
    "\n",
    "    model = Sequential()\n",
    "\n",
    "    # Add each layer.\n",
    "    for i in range(nb_layers):\n",
    "\n",
    "        # Need input shape for first layer.\n",
    "        if i == 0:\n",
    "            model.add(Dense(nb_neurons, activation=activation, input_shape=input_shape))\n",
    "        else:\n",
    "            model.add(Dense(nb_neurons, activation=activation))\n",
    "\n",
    "        model.add(Dropout(0.2))  \n",
    "\n",
    "    # Output layer.\n",
    "    model.add(Dense(nb_ouput))\n",
    "\n",
    "    model.compile(loss='mean_squared_error', optimizer=optimizer, metrics=[DINKLE_Accuracy()])\n",
    "\n",
    "    return model"
   ]
  },
  {
   "cell_type": "code",
   "execution_count": null,
   "metadata": {},
   "outputs": [],
   "source": [
    "def train_and_score(network, dataset):\n",
    "    \"\"\"Train the model, return test loss.\n",
    "    Args:\n",
    "        network (dict): the parameters of the network\n",
    "        dataset (str): Dataset to use for training/evaluating\n",
    "    \"\"\"\n",
    "    \n",
    "#     if dataset == 'cifar10':\n",
    "#         nb_classes, batch_size, input_shape, x_train, \\\n",
    "#             x_test, y_train, y_test = get_cifar10()\n",
    "#     elif dataset == 'mnist':\n",
    "#         nb_classes, batch_size, input_shape, x_train, \\\n",
    "#             x_test, y_train, y_test = get_mnist()\n",
    "\n",
    "    x_train, x_test, y_train, y_test = dataset[0], dataset[1], dataset[2], dataset[3]\n",
    "        \n",
    "    model = compile_model(network, nb_classes, input_shape)\n",
    "\n",
    "    model.fit(x_train, y_train,\n",
    "              batch_size=batch_size,\n",
    "              epochs=10000,  # using early stopping, so no real limit\n",
    "              verbose=0,\n",
    "              validation_data=(x_test, y_test),\n",
    "              callbacks=[early_stopper])\n",
    "\n",
    "    score = model.evaluate(x_test, y_test, verbose=0)\n",
    "    return score[2]  # 1 is accuracy. 0 is loss."
   ]
  }
 ],
 "metadata": {
  "kernelspec": {
   "display_name": "Python 3",
   "language": "python",
   "name": "python3"
  },
  "language_info": {
   "codemirror_mode": {
    "name": "ipython",
    "version": 3
   },
   "file_extension": ".py",
   "mimetype": "text/x-python",
   "name": "python",
   "nbconvert_exporter": "python",
   "pygments_lexer": "ipython3",
   "version": "3.6.9"
  }
 },
 "nbformat": 4,
 "nbformat_minor": 4
}
