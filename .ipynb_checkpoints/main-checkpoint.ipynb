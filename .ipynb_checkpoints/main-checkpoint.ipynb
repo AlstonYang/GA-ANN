{
 "cells": [
  {
   "cell_type": "code",
   "execution_count": 1,
   "metadata": {},
   "outputs": [
    {
     "name": "stdout",
     "output_type": "stream",
     "text": [
      "INFO:tensorflow:Enabling eager execution\n",
      "INFO:tensorflow:Enabling v2 tensorshape\n",
      "INFO:tensorflow:Enabling resource variables\n",
      "INFO:tensorflow:Enabling tensor equality\n",
      "INFO:tensorflow:Enabling control flow v2\n",
      "WARNING:tensorflow:From /home/Oring-AI/Model I/GA-ANN/train.py:29: The name tf.keras.backend.set_session is deprecated. Please use tf.compat.v1.keras.backend.set_session instead.\n",
      "\n"
     ]
    }
   ],
   "source": [
    "\"\"\"Entry point to evolving the neural network. Start here.\"\"\"\n",
    "import logging\n",
    "from optimizer import Optimizer\n",
    "from tqdm import tqdm\n",
    "\n",
    "# Setup logging.\n",
    "logging.basicConfig(\n",
    "    format='%(asctime)s - %(levelname)s - %(message)s',\n",
    "    datefmt='%m/%d/%Y %I:%M:%S %p',\n",
    "    level=logging.DEBUG,\n",
    "    filename='log.txt'\n",
    ")"
   ]
  },
  {
   "cell_type": "code",
   "execution_count": 2,
   "metadata": {},
   "outputs": [],
   "source": [
    "def train_networks(networks):\n",
    "    \"\"\"Train each network.\n",
    "    Args:\n",
    "        networks (list): Current population of networks\n",
    "        dataset (str): Dataset to use for training/evaluating\n",
    "    \"\"\"\n",
    "    pbar = tqdm(total=len(networks))\n",
    "    for network in networks:\n",
    "        network.train()\n",
    "        pbar.update(1)\n",
    "    pbar.close()"
   ]
  },
  {
   "cell_type": "code",
   "execution_count": 3,
   "metadata": {},
   "outputs": [],
   "source": [
    "def get_average_accuracy(networks):\n",
    "    \"\"\"Get the average accuracy for a group of networks.\n",
    "    Args:\n",
    "        networks (list): List of networks\n",
    "    Returns:\n",
    "        float: The average accuracy of a population of networks.\n",
    "    \"\"\"\n",
    "    total_accuracy = 0\n",
    "    for network in networks:\n",
    "        total_accuracy += network.accuracy\n",
    "\n",
    "    return total_accuracy / len(networks)"
   ]
  },
  {
   "cell_type": "code",
   "execution_count": 4,
   "metadata": {},
   "outputs": [],
   "source": [
    "def generate(generations, population, nn_param_choices):\n",
    "    \"\"\"Generate a network with the genetic algorithm.\n",
    "    Args:\n",
    "        generations (int): Number of times to evole the population\n",
    "        population (int): Number of networks in each generation\n",
    "        nn_param_choices (dict): Parameter choices for networks\n",
    "        dataset (str): Dataset to use for training/evaluating\n",
    "    \"\"\"\n",
    "    optimizer = Optimizer(nn_param_choices)\n",
    "    networks = optimizer.create_population(population)\n",
    "\n",
    "    # Evolve the generation.\n",
    "    for i in range(generations):\n",
    "        logging.info(\"***Doing generation %d of %d***\" %\n",
    "                     (i + 1, generations))\n",
    "\n",
    "        # Train and get accuracy for networks.\n",
    "        train_networks(networks)\n",
    "\n",
    "        # Get the average accuracy for this generation.\n",
    "        average_accuracy = get_average_accuracy(networks)\n",
    "\n",
    "        # Print out the average accuracy each generation.\n",
    "        logging.info(\"Generation average: %.2f%%\" % (average_accuracy * 100))\n",
    "        logging.info('-'*80)\n",
    "\n",
    "        # Evolve, except on the last iteration.\n",
    "        if i != generations - 1:\n",
    "            # Do the evolution.\n",
    "            networks = optimizer.evolve(networks)\n",
    "\n",
    "    # Sort our final population.\n",
    "    networks = sorted(networks, key=lambda x: x.accuracy, reverse=True)\n",
    "\n",
    "    # Print out the top 5 networks.\n",
    "    print_networks(networks[:5])"
   ]
  },
  {
   "cell_type": "code",
   "execution_count": 5,
   "metadata": {},
   "outputs": [],
   "source": [
    "def print_networks(networks):\n",
    "    \"\"\"Print a list of networks.\n",
    "    Args:\n",
    "        networks (list): The population of networks\n",
    "    \"\"\"\n",
    "    logging.info('-'*80)\n",
    "    for network in networks:\n",
    "        network.print_network()"
   ]
  },
  {
   "cell_type": "code",
   "execution_count": 6,
   "metadata": {},
   "outputs": [],
   "source": [
    "def main():\n",
    "    \"\"\"Evolve a network.\"\"\"\n",
    "    generations = 10  # Number of times to evole the population.\n",
    "    population = 20  # Number of networks in each generation.\n",
    "#     dataset = 'cifar10'\n",
    "\n",
    "    nn_param_choices = {\n",
    "        'nb_neurons': [64, 128, 256, 512, 768, 1024],\n",
    "        'nb_layers': [1, 2, 3, 4],\n",
    "        'activation': ['relu', 'elu', 'tanh', 'sigmoid'],\n",
    "        'optimizer': ['rmsprop', 'adam', 'sgd', 'adagrad',\n",
    "                      'adadelta', 'adamax', 'nadam'],\n",
    "    }\n",
    "\n",
    "    logging.info(\"***Evolving %d generations with population %d***\" %\n",
    "                 (generations, population))\n",
    "\n",
    "    generate(generations, population, nn_param_choices)\n"
   ]
  },
  {
   "cell_type": "code",
   "execution_count": null,
   "metadata": {},
   "outputs": [
    {
     "name": "stderr",
     "output_type": "stream",
     "text": [
      "  0%|          | 0/20 [00:00<?, ?it/s]"
     ]
    },
    {
     "name": "stdout",
     "output_type": "stream",
     "text": [
      "Epoch 1/10\n",
      "38/38 [==============================] - 12s 792us/step - loss: 0.4292 - DINKLE_Accuracy: 0.0260\n",
      "Epoch 2/10\n",
      "38/38 [==============================] - 0s 659us/step - loss: 0.4047 - DINKLE_Accuracy: 0.0141\n",
      "Epoch 3/10\n",
      "38/38 [==============================] - 0s 660us/step - loss: 0.3120 - DINKLE_Accuracy: 0.0206\n",
      "Epoch 4/10\n",
      "38/38 [==============================] - 0s 681us/step - loss: 0.3130 - DINKLE_Accuracy: 0.0143\n",
      "Epoch 5/10\n",
      "38/38 [==============================] - 0s 680us/step - loss: 0.3040 - DINKLE_Accuracy: 0.0249\n",
      "Epoch 6/10\n",
      "38/38 [==============================] - 0s 677us/step - loss: 0.2746 - DINKLE_Accuracy: 0.0282\n",
      "Epoch 7/10\n",
      "38/38 [==============================] - 0s 660us/step - loss: 0.2860 - DINKLE_Accuracy: 0.0213\n",
      "Epoch 8/10\n",
      "38/38 [==============================] - 0s 676us/step - loss: 0.2790 - DINKLE_Accuracy: 0.0200\n",
      "Epoch 9/10\n",
      "38/38 [==============================] - 0s 671us/step - loss: 0.2596 - DINKLE_Accuracy: 0.0437\n",
      "Epoch 10/10\n",
      "38/38 [==============================] - 0s 680us/step - loss: 0.2264 - DINKLE_Accuracy: 0.0184\n"
     ]
    },
    {
     "name": "stderr",
     "output_type": "stream",
     "text": [
      "  5%|▌         | 1/20 [00:13<04:07, 13.04s/it]"
     ]
    },
    {
     "name": "stdout",
     "output_type": "stream",
     "text": [
      "Epoch 1/10\n",
      "38/38 [==============================] - 0s 689us/step - loss: 0.3405 - DINKLE_Accuracy: 0.0226\n",
      "Epoch 2/10\n",
      "38/38 [==============================] - 0s 622us/step - loss: 0.1465 - DINKLE_Accuracy: 0.0398\n",
      "Epoch 3/10\n",
      "38/38 [==============================] - 0s 606us/step - loss: 0.1728 - DINKLE_Accuracy: 0.0215\n",
      "Epoch 4/10\n",
      "38/38 [==============================] - 0s 654us/step - loss: 0.1880 - DINKLE_Accuracy: 0.0454\n",
      "Epoch 5/10\n",
      "38/38 [==============================] - 0s 643us/step - loss: 0.1257 - DINKLE_Accuracy: 0.0334\n",
      "Epoch 6/10\n",
      "38/38 [==============================] - 0s 659us/step - loss: 0.1592 - DINKLE_Accuracy: 0.0299\n",
      "Epoch 7/10\n",
      "38/38 [==============================] - 0s 638us/step - loss: 0.1216 - DINKLE_Accuracy: 0.0355\n",
      "Epoch 8/10\n",
      "38/38 [==============================] - 0s 641us/step - loss: 0.1650 - DINKLE_Accuracy: 0.0223\n",
      "Epoch 9/10\n",
      "38/38 [==============================] - 0s 647us/step - loss: 0.1690 - DINKLE_Accuracy: 0.0368\n",
      "Epoch 10/10\n",
      "38/38 [==============================] - 0s 642us/step - loss: 0.1323 - DINKLE_Accuracy: 0.0540\n"
     ]
    },
    {
     "name": "stderr",
     "output_type": "stream",
     "text": [
      " 10%|█         | 2/20 [00:14<01:47,  5.97s/it]"
     ]
    },
    {
     "name": "stdout",
     "output_type": "stream",
     "text": [
      "Epoch 1/10\n",
      "38/38 [==============================] - 1s 6ms/step - loss: 1.7577 - DINKLE_Accuracy: 0.0309\n",
      "Epoch 2/10\n",
      "38/38 [==============================] - 0s 7ms/step - loss: 0.0163 - DINKLE_Accuracy: 0.1171\n",
      "Epoch 3/10\n",
      "38/38 [==============================] - 0s 6ms/step - loss: 0.0112 - DINKLE_Accuracy: 0.1762\n",
      "Epoch 4/10\n",
      "38/38 [==============================] - 0s 6ms/step - loss: 0.0108 - DINKLE_Accuracy: 0.1522\n",
      "Epoch 5/10\n",
      "38/38 [==============================] - 0s 6ms/step - loss: 0.0083 - DINKLE_Accuracy: 0.1980\n",
      "Epoch 6/10\n",
      "38/38 [==============================] - 0s 6ms/step - loss: 0.0101 - DINKLE_Accuracy: 0.1319\n",
      "Epoch 7/10\n",
      "38/38 [==============================] - 0s 6ms/step - loss: 0.0087 - DINKLE_Accuracy: 0.1544\n",
      "Epoch 8/10\n",
      "38/38 [==============================] - 0s 7ms/step - loss: 0.0077 - DINKLE_Accuracy: 0.2035\n",
      "Epoch 9/10\n",
      "38/38 [==============================] - 0s 6ms/step - loss: 0.0077 - DINKLE_Accuracy: 0.1786\n",
      "Epoch 10/10\n",
      "38/38 [==============================] - 0s 6ms/step - loss: 0.0081 - DINKLE_Accuracy: 0.2238\n"
     ]
    },
    {
     "name": "stderr",
     "output_type": "stream",
     "text": [
      " 15%|█▌        | 3/20 [00:17<01:22,  4.84s/it]"
     ]
    },
    {
     "name": "stdout",
     "output_type": "stream",
     "text": [
      "Epoch 1/10\n",
      "38/38 [==============================] - 1s 625us/step - loss: 0.0465 - DINKLE_Accuracy: 0.0700\n",
      "Epoch 2/10\n",
      "38/38 [==============================] - 0s 546us/step - loss: 0.0191 - DINKLE_Accuracy: 0.0935\n",
      "Epoch 3/10\n",
      "38/38 [==============================] - 0s 559us/step - loss: 0.0178 - DINKLE_Accuracy: 0.0871\n",
      "Epoch 4/10\n",
      "38/38 [==============================] - 0s 595us/step - loss: 0.0132 - DINKLE_Accuracy: 0.1344\n",
      "Epoch 5/10\n",
      "38/38 [==============================] - 0s 565us/step - loss: 0.0159 - DINKLE_Accuracy: 0.1210\n",
      "Epoch 6/10\n",
      "38/38 [==============================] - 0s 553us/step - loss: 0.0144 - DINKLE_Accuracy: 0.1520\n",
      "Epoch 7/10\n",
      "38/38 [==============================] - 0s 567us/step - loss: 0.0161 - DINKLE_Accuracy: 0.1117\n",
      "Epoch 8/10\n",
      "38/38 [==============================] - 0s 563us/step - loss: 0.0163 - DINKLE_Accuracy: 0.1165\n",
      "Epoch 9/10\n",
      "38/38 [==============================] - 0s 577us/step - loss: 0.0143 - DINKLE_Accuracy: 0.1397\n",
      "Epoch 10/10\n",
      "38/38 [==============================] - 0s 600us/step - loss: 0.0119 - DINKLE_Accuracy: 0.1286\n"
     ]
    },
    {
     "name": "stderr",
     "output_type": "stream",
     "text": [
      " 20%|██        | 4/20 [00:18<00:55,  3.45s/it]"
     ]
    },
    {
     "name": "stdout",
     "output_type": "stream",
     "text": [
      "Epoch 1/10\n",
      "38/38 [==============================] - 1s 6ms/step - loss: 0.9448 - DINKLE_Accuracy: 0.0334\n",
      "Epoch 2/10\n",
      "38/38 [==============================] - 0s 6ms/step - loss: 0.0229 - DINKLE_Accuracy: 0.1231\n",
      "Epoch 3/10\n",
      "38/38 [==============================] - 0s 6ms/step - loss: 0.0085 - DINKLE_Accuracy: 0.1270\n",
      "Epoch 4/10\n",
      "38/38 [==============================] - 0s 6ms/step - loss: 0.0087 - DINKLE_Accuracy: 0.1286\n",
      "Epoch 5/10\n",
      "38/38 [==============================] - 0s 6ms/step - loss: 0.0073 - DINKLE_Accuracy: 0.2394\n",
      "Epoch 6/10\n",
      "38/38 [==============================] - 0s 6ms/step - loss: 0.0090 - DINKLE_Accuracy: 0.1438\n",
      "Epoch 7/10\n",
      "38/38 [==============================] - 0s 6ms/step - loss: 0.0064 - DINKLE_Accuracy: 0.2140\n",
      "Epoch 8/10\n",
      "38/38 [==============================] - 0s 6ms/step - loss: 0.0088 - DINKLE_Accuracy: 0.1715\n",
      "Epoch 9/10\n",
      "38/38 [==============================] - 0s 6ms/step - loss: 0.0072 - DINKLE_Accuracy: 0.1735\n",
      "Epoch 10/10\n",
      "38/38 [==============================] - 0s 6ms/step - loss: 0.0083 - DINKLE_Accuracy: 0.1540\n",
      "WARNING:tensorflow:5 out of the last 5 calls to <function Model.make_test_function.<locals>.test_function at 0x7fbb1c1dd510> triggered tf.function retracing. Tracing is expensive and the excessive number of tracings could be due to (1) creating @tf.function repeatedly in a loop, (2) passing tensors with different shapes, (3) passing Python objects instead of tensors. For (1), please define your @tf.function outside of the loop. For (2), @tf.function has experimental_relax_shapes=True option that relaxes argument shapes that can avoid unnecessary retracing. For (3), please refer to https://www.tensorflow.org/guide/function#controlling_retracing and https://www.tensorflow.org/api_docs/python/tf/function for  more details.\n"
     ]
    },
    {
     "name": "stderr",
     "output_type": "stream",
     "text": [
      " 25%|██▌       | 5/20 [00:22<00:50,  3.38s/it]"
     ]
    },
    {
     "name": "stdout",
     "output_type": "stream",
     "text": [
      "Epoch 1/10\n",
      "38/38 [==============================] - 1s 797us/step - loss: 0.3345 - DINKLE_Accuracy: 0.0065\n",
      "Epoch 2/10\n",
      "38/38 [==============================] - 0s 709us/step - loss: 0.3403 - DINKLE_Accuracy: 0.0118\n",
      "Epoch 3/10\n",
      "38/38 [==============================] - 0s 707us/step - loss: 0.3223 - DINKLE_Accuracy: 0.0112\n",
      "Epoch 4/10\n",
      "38/38 [==============================] - 0s 774us/step - loss: 0.3227 - DINKLE_Accuracy: 0.0171\n",
      "Epoch 5/10\n",
      "38/38 [==============================] - 0s 725us/step - loss: 0.3439 - DINKLE_Accuracy: 0.0124\n",
      "Epoch 6/10\n",
      "38/38 [==============================] - 0s 691us/step - loss: 0.3126 - DINKLE_Accuracy: 0.0188\n",
      "Epoch 7/10\n",
      "38/38 [==============================] - 0s 726us/step - loss: 0.3088 - DINKLE_Accuracy: 0.0308\n",
      "Epoch 8/10\n",
      "38/38 [==============================] - 0s 726us/step - loss: 0.3304 - DINKLE_Accuracy: 0.0065\n",
      "Epoch 9/10\n",
      "38/38 [==============================] - 0s 736us/step - loss: 0.2796 - DINKLE_Accuracy: 0.0150\n",
      "Epoch 10/10\n",
      "38/38 [==============================] - 0s 704us/step - loss: 0.3131 - DINKLE_Accuracy: 0.0307\n",
      "WARNING:tensorflow:6 out of the last 6 calls to <function Model.make_test_function.<locals>.test_function at 0x7fbb1c7be378> triggered tf.function retracing. Tracing is expensive and the excessive number of tracings could be due to (1) creating @tf.function repeatedly in a loop, (2) passing tensors with different shapes, (3) passing Python objects instead of tensors. For (1), please define your @tf.function outside of the loop. For (2), @tf.function has experimental_relax_shapes=True option that relaxes argument shapes that can avoid unnecessary retracing. For (3), please refer to https://www.tensorflow.org/guide/function#controlling_retracing and https://www.tensorflow.org/api_docs/python/tf/function for  more details.\n"
     ]
    },
    {
     "name": "stderr",
     "output_type": "stream",
     "text": [
      " 30%|███       | 6/20 [00:23<00:37,  2.66s/it]"
     ]
    },
    {
     "name": "stdout",
     "output_type": "stream",
     "text": [
      "Epoch 1/10\n",
      "38/38 [==============================] - 1s 7ms/step - loss: 1.3386 - DINKLE_Accuracy: 0.0176\n",
      "Epoch 2/10\n",
      "38/38 [==============================] - 0s 7ms/step - loss: 0.5110 - DINKLE_Accuracy: 0.0167\n",
      "Epoch 3/10\n",
      "38/38 [==============================] - 0s 7ms/step - loss: 0.3159 - DINKLE_Accuracy: 0.0498\n",
      "Epoch 4/10\n",
      "38/38 [==============================] - 0s 7ms/step - loss: 0.3253 - DINKLE_Accuracy: 0.0218\n",
      "Epoch 5/10\n",
      "38/38 [==============================] - 0s 7ms/step - loss: 0.2125 - DINKLE_Accuracy: 0.0451\n",
      "Epoch 6/10\n",
      "38/38 [==============================] - 0s 7ms/step - loss: 0.1305 - DINKLE_Accuracy: 0.0364\n",
      "Epoch 7/10\n",
      "38/38 [==============================] - 0s 7ms/step - loss: 0.0962 - DINKLE_Accuracy: 0.0710\n",
      "Epoch 8/10\n",
      "38/38 [==============================] - 0s 7ms/step - loss: 0.1485 - DINKLE_Accuracy: 0.0627\n",
      "Epoch 9/10\n",
      "38/38 [==============================] - 0s 7ms/step - loss: 0.0957 - DINKLE_Accuracy: 0.0633\n",
      "Epoch 10/10\n",
      "38/38 [==============================] - 0s 7ms/step - loss: 0.0744 - DINKLE_Accuracy: 0.0478\n"
     ]
    },
    {
     "name": "stderr",
     "output_type": "stream",
     "text": [
      " 35%|███▌      | 7/20 [00:27<00:39,  3.01s/it]"
     ]
    },
    {
     "name": "stdout",
     "output_type": "stream",
     "text": [
      "Epoch 1/10\n",
      "38/38 [==============================] - 1s 14ms/step - loss: 37.0329 - DINKLE_Accuracy: 0.0303\n",
      "Epoch 2/10\n",
      "38/38 [==============================] - 1s 14ms/step - loss: 0.2322 - DINKLE_Accuracy: 0.0446\n",
      "Epoch 3/10\n",
      "38/38 [==============================] - 1s 14ms/step - loss: 0.7402 - DINKLE_Accuracy: 0.0430\n",
      "Epoch 4/10\n",
      "38/38 [==============================] - 1s 14ms/step - loss: 0.1341 - DINKLE_Accuracy: 0.0446\n",
      "Epoch 5/10\n",
      "38/38 [==============================] - 1s 14ms/step - loss: 0.1120 - DINKLE_Accuracy: 0.0481\n",
      "Epoch 6/10\n",
      "38/38 [==============================] - 1s 14ms/step - loss: 0.0757 - DINKLE_Accuracy: 0.0876\n",
      "Epoch 7/10\n",
      "38/38 [==============================] - 1s 14ms/step - loss: 0.0816 - DINKLE_Accuracy: 0.0717\n",
      "Epoch 8/10\n",
      "38/38 [==============================] - 1s 14ms/step - loss: 0.1254 - DINKLE_Accuracy: 0.0381\n",
      "Epoch 9/10\n",
      "38/38 [==============================] - 1s 14ms/step - loss: 0.0477 - DINKLE_Accuracy: 0.1030\n",
      "Epoch 10/10\n",
      "38/38 [==============================] - 1s 14ms/step - loss: 0.0495 - DINKLE_Accuracy: 0.0912\n"
     ]
    },
    {
     "name": "stderr",
     "output_type": "stream",
     "text": [
      " 40%|████      | 8/20 [00:33<00:49,  4.15s/it]"
     ]
    },
    {
     "name": "stdout",
     "output_type": "stream",
     "text": [
      "Epoch 1/10\n",
      "38/38 [==============================] - 1s 1ms/step - loss: 0.0818 - DINKLE_Accuracy: 0.0578 \n",
      "Epoch 2/10\n",
      "38/38 [==============================] - 0s 1ms/step - loss: 0.0153 - DINKLE_Accuracy: 0.0915\n",
      "Epoch 3/10\n",
      "38/38 [==============================] - 0s 1ms/step - loss: 0.0151 - DINKLE_Accuracy: 0.0951\n",
      "Epoch 4/10\n",
      "38/38 [==============================] - 0s 1ms/step - loss: 0.0114 - DINKLE_Accuracy: 0.1591\n",
      "Epoch 5/10\n",
      "38/38 [==============================] - 0s 1ms/step - loss: 0.0124 - DINKLE_Accuracy: 0.1337\n",
      "Epoch 6/10\n",
      "38/38 [==============================] - 0s 1ms/step - loss: 0.0134 - DINKLE_Accuracy: 0.1356\n",
      "Epoch 7/10\n",
      "38/38 [==============================] - 0s 1ms/step - loss: 0.0102 - DINKLE_Accuracy: 0.1935\n",
      "Epoch 8/10\n",
      "38/38 [==============================] - 0s 1ms/step - loss: 0.0104 - DINKLE_Accuracy: 0.1244\n",
      "Epoch 9/10\n",
      "38/38 [==============================] - 0s 1ms/step - loss: 0.0108 - DINKLE_Accuracy: 0.1787\n",
      "Epoch 10/10\n",
      "38/38 [==============================] - 0s 1ms/step - loss: 0.0112 - DINKLE_Accuracy: 0.1067\n"
     ]
    },
    {
     "name": "stderr",
     "output_type": "stream",
     "text": [
      " 45%|████▌     | 9/20 [00:35<00:35,  3.25s/it]"
     ]
    },
    {
     "name": "stdout",
     "output_type": "stream",
     "text": [
      "Epoch 1/10\n",
      "38/38 [==============================] - 1s 646us/step - loss: 2.7527 - DINKLE_Accuracy: 6.6469e-04\n",
      "Epoch 2/10\n",
      "38/38 [==============================] - 0s 589us/step - loss: 2.5736 - DINKLE_Accuracy: 0.0000e+00\n",
      "Epoch 3/10\n",
      "38/38 [==============================] - 0s 603us/step - loss: 2.6365 - DINKLE_Accuracy: 0.0000e+00\n",
      "Epoch 4/10\n",
      "38/38 [==============================] - 0s 630us/step - loss: 2.7504 - DINKLE_Accuracy: 0.0000e+00\n",
      "Epoch 5/10\n",
      "38/38 [==============================] - 0s 718us/step - loss: 2.8421 - DINKLE_Accuracy: 0.0000e+00\n",
      "Epoch 6/10\n",
      "38/38 [==============================] - 0s 643us/step - loss: 2.6151 - DINKLE_Accuracy: 0.0000e+00\n",
      "Epoch 7/10\n",
      "38/38 [==============================] - 0s 612us/step - loss: 2.4825 - DINKLE_Accuracy: 0.0000e+00\n",
      "Epoch 8/10\n",
      "38/38 [==============================] - 0s 604us/step - loss: 2.5753 - DINKLE_Accuracy: 0.0000e+00\n",
      "Epoch 9/10\n",
      "38/38 [==============================] - 0s 634us/step - loss: 2.7305 - DINKLE_Accuracy: 0.0000e+00\n",
      "Epoch 10/10\n",
      "38/38 [==============================] - 0s 652us/step - loss: 2.4814 - DINKLE_Accuracy: 0.0000e+00\n"
     ]
    },
    {
     "name": "stderr",
     "output_type": "stream",
     "text": [
      " 50%|█████     | 10/20 [00:36<00:25,  2.59s/it]"
     ]
    },
    {
     "name": "stdout",
     "output_type": "stream",
     "text": [
      "Epoch 1/10\n",
      "38/38 [==============================] - 1s 683us/step - loss: 0.1370 - DINKLE_Accuracy: 0.0790\n",
      "Epoch 2/10\n",
      "38/38 [==============================] - 0s 666us/step - loss: 0.0587 - DINKLE_Accuracy: 0.0579\n",
      "Epoch 3/10\n",
      "38/38 [==============================] - 0s 667us/step - loss: 0.0380 - DINKLE_Accuracy: 0.1018\n",
      "Epoch 4/10\n",
      "38/38 [==============================] - 0s 657us/step - loss: 0.0375 - DINKLE_Accuracy: 0.0917\n",
      "Epoch 5/10\n",
      "38/38 [==============================] - 0s 642us/step - loss: 0.0298 - DINKLE_Accuracy: 0.1475\n",
      "Epoch 6/10\n",
      "38/38 [==============================] - 0s 653us/step - loss: 0.0237 - DINKLE_Accuracy: 0.0933\n",
      "Epoch 7/10\n",
      "38/38 [==============================] - 0s 663us/step - loss: 0.0205 - DINKLE_Accuracy: 0.0964\n",
      "Epoch 8/10\n",
      "38/38 [==============================] - 0s 650us/step - loss: 0.0186 - DINKLE_Accuracy: 0.1334\n",
      "Epoch 9/10\n",
      "38/38 [==============================] - 0s 643us/step - loss: 0.0213 - DINKLE_Accuracy: 0.0767\n",
      "Epoch 10/10\n",
      "38/38 [==============================] - 0s 652us/step - loss: 0.0166 - DINKLE_Accuracy: 0.0710\n"
     ]
    },
    {
     "name": "stderr",
     "output_type": "stream",
     "text": [
      " 55%|█████▌    | 11/20 [00:37<00:20,  2.23s/it]"
     ]
    },
    {
     "name": "stdout",
     "output_type": "stream",
     "text": [
      "Epoch 1/10\n",
      "38/38 [==============================] - 3s 44ms/step - loss: 3.7636 - DINKLE_Accuracy: 0.0385\n",
      "Epoch 2/10\n",
      "38/38 [==============================] - 2s 44ms/step - loss: 0.0641 - DINKLE_Accuracy: 0.0767\n",
      "Epoch 3/10\n",
      "38/38 [==============================] - 2s 45ms/step - loss: 0.0144 - DINKLE_Accuracy: 0.1387\n",
      "Epoch 4/10\n",
      "38/38 [==============================] - 2s 45ms/step - loss: 0.0236 - DINKLE_Accuracy: 0.0985\n",
      "Epoch 5/10\n",
      "38/38 [==============================] - 2s 45ms/step - loss: 0.0182 - DINKLE_Accuracy: 0.1023\n",
      "Epoch 6/10\n",
      "38/38 [==============================] - 2s 44ms/step - loss: 0.0254 - DINKLE_Accuracy: 0.0946\n",
      "Epoch 7/10\n",
      "38/38 [==============================] - 2s 45ms/step - loss: 0.0334 - DINKLE_Accuracy: 0.1204\n",
      "Epoch 8/10\n",
      "38/38 [==============================] - 2s 44ms/step - loss: 0.0122 - DINKLE_Accuracy: 0.1707\n",
      "Epoch 9/10\n",
      "38/38 [==============================] - 2s 45ms/step - loss: 0.0191 - DINKLE_Accuracy: 0.1061\n",
      "Epoch 10/10\n",
      "38/38 [==============================] - 2s 45ms/step - loss: 0.0216 - DINKLE_Accuracy: 0.1442\n"
     ]
    },
    {
     "name": "stderr",
     "output_type": "stream",
     "text": [
      " 60%|██████    | 12/20 [00:56<00:57,  7.18s/it]"
     ]
    },
    {
     "name": "stdout",
     "output_type": "stream",
     "text": [
      "Epoch 1/10\n",
      "38/38 [==============================] - 1s 11ms/step - loss: 2.7698 - DINKLE_Accuracy: 0.0118\n",
      "Epoch 2/10\n",
      "38/38 [==============================] - 0s 11ms/step - loss: 0.0418 - DINKLE_Accuracy: 0.0945\n",
      "Epoch 3/10\n",
      "38/38 [==============================] - 0s 11ms/step - loss: 0.0120 - DINKLE_Accuracy: 0.1280: 0s - loss: 0.0118 - DINKLE_Accuracy: 0\n",
      "Epoch 4/10\n",
      "38/38 [==============================] - 0s 11ms/step - loss: 0.0109 - DINKLE_Accuracy: 0.2003\n",
      "Epoch 5/10\n",
      "38/38 [==============================] - 0s 11ms/step - loss: 0.0085 - DINKLE_Accuracy: 0.1753\n",
      "Epoch 6/10\n",
      "38/38 [==============================] - 0s 11ms/step - loss: 0.0098 - DINKLE_Accuracy: 0.1616\n",
      "Epoch 7/10\n",
      "38/38 [==============================] - 0s 11ms/step - loss: 0.0093 - DINKLE_Accuracy: 0.1632\n",
      "Epoch 8/10\n",
      "38/38 [==============================] - 0s 11ms/step - loss: 0.0081 - DINKLE_Accuracy: 0.1977\n",
      "Epoch 9/10\n",
      "38/38 [==============================] - 0s 11ms/step - loss: 0.0071 - DINKLE_Accuracy: 0.2159\n",
      "Epoch 10/10\n",
      "38/38 [==============================] - 0s 11ms/step - loss: 0.0105 - DINKLE_Accuracy: 0.1428\n"
     ]
    },
    {
     "name": "stderr",
     "output_type": "stream",
     "text": [
      " 65%|██████▌   | 13/20 [01:01<00:46,  6.59s/it]"
     ]
    },
    {
     "name": "stdout",
     "output_type": "stream",
     "text": [
      "Epoch 1/10\n",
      "38/38 [==============================] - 1s 666us/step - loss: 0.2193 - DINKLE_Accuracy: 0.0243\n",
      "Epoch 2/10\n",
      "38/38 [==============================] - 0s 650us/step - loss: 0.0710 - DINKLE_Accuracy: 0.0602\n",
      "Epoch 3/10\n",
      "38/38 [==============================] - 0s 637us/step - loss: 0.0516 - DINKLE_Accuracy: 0.0728\n",
      "Epoch 4/10\n",
      "38/38 [==============================] - 0s 617us/step - loss: 0.0422 - DINKLE_Accuracy: 0.0763\n",
      "Epoch 5/10\n",
      "38/38 [==============================] - 0s 624us/step - loss: 0.0327 - DINKLE_Accuracy: 0.0943\n",
      "Epoch 6/10\n",
      "38/38 [==============================] - 0s 624us/step - loss: 0.0330 - DINKLE_Accuracy: 0.0990\n",
      "Epoch 7/10\n",
      "38/38 [==============================] - 0s 638us/step - loss: 0.0312 - DINKLE_Accuracy: 0.1087\n",
      "Epoch 8/10\n",
      "38/38 [==============================] - 0s 618us/step - loss: 0.0236 - DINKLE_Accuracy: 0.0878\n",
      "Epoch 9/10\n",
      "38/38 [==============================] - 0s 624us/step - loss: 0.0207 - DINKLE_Accuracy: 0.1486\n",
      "Epoch 10/10\n",
      "38/38 [==============================] - 0s 664us/step - loss: 0.0183 - DINKLE_Accuracy: 0.1183\n"
     ]
    },
    {
     "name": "stderr",
     "output_type": "stream",
     "text": [
      " 70%|███████   | 14/20 [01:02<00:30,  5.05s/it]"
     ]
    },
    {
     "name": "stdout",
     "output_type": "stream",
     "text": [
      "Epoch 1/10\n",
      "38/38 [==============================] - 0s 667us/step - loss: 0.0737 - DINKLE_Accuracy: 0.0777\n",
      "Epoch 2/10\n",
      "38/38 [==============================] - 0s 639us/step - loss: 0.0078 - DINKLE_Accuracy: 0.1747\n",
      "Epoch 3/10\n",
      "38/38 [==============================] - 0s 613us/step - loss: 0.0106 - DINKLE_Accuracy: 0.1491\n",
      "Epoch 4/10\n",
      "38/38 [==============================] - 0s 611us/step - loss: 0.0069 - DINKLE_Accuracy: 0.2061\n",
      "Epoch 5/10\n",
      "38/38 [==============================] - 0s 607us/step - loss: 0.0082 - DINKLE_Accuracy: 0.1824\n",
      "Epoch 6/10\n",
      "38/38 [==============================] - 0s 615us/step - loss: 0.0067 - DINKLE_Accuracy: 0.1962\n",
      "Epoch 7/10\n",
      "38/38 [==============================] - 0s 609us/step - loss: 0.0070 - DINKLE_Accuracy: 0.1888\n",
      "Epoch 8/10\n",
      "38/38 [==============================] - 0s 602us/step - loss: 0.0067 - DINKLE_Accuracy: 0.2201\n",
      "Epoch 9/10\n",
      "38/38 [==============================] - 0s 602us/step - loss: 0.0073 - DINKLE_Accuracy: 0.2452\n",
      "Epoch 10/10\n",
      "38/38 [==============================] - 0s 609us/step - loss: 0.0061 - DINKLE_Accuracy: 0.2201\n"
     ]
    },
    {
     "name": "stderr",
     "output_type": "stream",
     "text": [
      " 75%|███████▌  | 15/20 [01:03<00:19,  3.82s/it]"
     ]
    },
    {
     "name": "stdout",
     "output_type": "stream",
     "text": [
      "Epoch 1/10\n",
      "38/38 [==============================] - 1s 687us/step - loss: 0.1874 - DINKLE_Accuracy: 0.0156\n",
      "Epoch 2/10\n",
      "38/38 [==============================] - 0s 670us/step - loss: 0.0554 - DINKLE_Accuracy: 0.0779\n",
      "Epoch 3/10\n",
      "38/38 [==============================] - 0s 655us/step - loss: 0.0389 - DINKLE_Accuracy: 0.1179\n",
      "Epoch 4/10\n",
      "38/38 [==============================] - 0s 664us/step - loss: 0.0314 - DINKLE_Accuracy: 0.0692\n",
      "Epoch 5/10\n",
      "38/38 [==============================] - 0s 649us/step - loss: 0.0250 - DINKLE_Accuracy: 0.1011\n",
      "Epoch 6/10\n",
      "38/38 [==============================] - 0s 662us/step - loss: 0.0276 - DINKLE_Accuracy: 0.0888\n",
      "Epoch 7/10\n",
      "38/38 [==============================] - 0s 666us/step - loss: 0.0227 - DINKLE_Accuracy: 0.0946\n",
      "Epoch 8/10\n",
      "38/38 [==============================] - 0s 668us/step - loss: 0.0251 - DINKLE_Accuracy: 0.1051\n",
      "Epoch 9/10\n",
      "38/38 [==============================] - 0s 655us/step - loss: 0.0184 - DINKLE_Accuracy: 0.1366\n",
      "Epoch 10/10\n",
      "38/38 [==============================] - 0s 661us/step - loss: 0.0236 - DINKLE_Accuracy: 0.0930\n"
     ]
    },
    {
     "name": "stderr",
     "output_type": "stream",
     "text": [
      " 80%|████████  | 16/20 [01:05<00:12,  3.09s/it]"
     ]
    },
    {
     "name": "stdout",
     "output_type": "stream",
     "text": [
      "Epoch 1/10\n",
      "38/38 [==============================] - 1s 3ms/step - loss: 0.7491 - DINKLE_Accuracy: 0.0203\n",
      "Epoch 2/10\n",
      "38/38 [==============================] - 0s 3ms/step - loss: 0.2020 - DINKLE_Accuracy: 0.0288\n",
      "Epoch 3/10\n",
      "38/38 [==============================] - 0s 3ms/step - loss: 0.1519 - DINKLE_Accuracy: 0.0283\n",
      "Epoch 4/10\n",
      "38/38 [==============================] - 0s 3ms/step - loss: 0.1352 - DINKLE_Accuracy: 0.0461\n",
      "Epoch 5/10\n",
      "38/38 [==============================] - 0s 2ms/step - loss: 0.1350 - DINKLE_Accuracy: 0.0689\n",
      "Epoch 6/10\n",
      "38/38 [==============================] - 0s 2ms/step - loss: 0.0938 - DINKLE_Accuracy: 0.0398\n",
      "Epoch 7/10\n",
      "38/38 [==============================] - 0s 3ms/step - loss: 0.0930 - DINKLE_Accuracy: 0.0353\n",
      "Epoch 8/10\n",
      "38/38 [==============================] - 0s 3ms/step - loss: 0.0597 - DINKLE_Accuracy: 0.0792\n",
      "Epoch 9/10\n",
      "38/38 [==============================] - 0s 3ms/step - loss: 0.0609 - DINKLE_Accuracy: 0.0683\n",
      "Epoch 10/10\n",
      "38/38 [==============================] - 0s 3ms/step - loss: 0.0435 - DINKLE_Accuracy: 0.0741\n"
     ]
    },
    {
     "name": "stderr",
     "output_type": "stream",
     "text": [
      " 85%|████████▌ | 17/20 [01:07<00:08,  2.76s/it]"
     ]
    }
   ],
   "source": [
    "if __name__ == '__main__':\n",
    "    main()"
   ]
  },
  {
   "cell_type": "code",
   "execution_count": null,
   "metadata": {},
   "outputs": [],
   "source": []
  }
 ],
 "metadata": {
  "kernelspec": {
   "display_name": "Python 3",
   "language": "python",
   "name": "python3"
  },
  "language_info": {
   "codemirror_mode": {
    "name": "ipython",
    "version": 3
   },
   "file_extension": ".py",
   "mimetype": "text/x-python",
   "name": "python",
   "nbconvert_exporter": "python",
   "pygments_lexer": "ipython3",
   "version": "3.6.9"
  }
 },
 "nbformat": 4,
 "nbformat_minor": 4
}
