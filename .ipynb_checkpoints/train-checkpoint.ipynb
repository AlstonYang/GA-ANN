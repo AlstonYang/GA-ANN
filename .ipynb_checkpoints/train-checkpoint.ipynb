{
 "cells": [
  {
   "cell_type": "code",
   "execution_count": 1,
   "metadata": {},
   "outputs": [
    {
     "name": "stdout",
     "output_type": "stream",
     "text": [
      "INFO:tensorflow:Enabling eager execution\n",
      "INFO:tensorflow:Enabling v2 tensorshape\n",
      "INFO:tensorflow:Enabling resource variables\n",
      "INFO:tensorflow:Enabling tensor equality\n",
      "INFO:tensorflow:Enabling control flow v2\n"
     ]
    }
   ],
   "source": [
    "\"\"\"\n",
    "Utility used by the Network class to actually train.\n",
    "\n",
    "Based on:\n",
    "    https://github.com/fchollet/keras/blob/master/examples/mnist_mlp.py\n",
    "\n",
    "\"\"\"\n",
    "import tensorflow as tf\n",
    "import numpy as np\n",
    "import pandas as pd\n",
    "from keras.models import Sequential\n",
    "from keras.layers import Dense, Dropout\n",
    "from keras.utils.np_utils import to_categorical\n",
    "from keras.callbacks import EarlyStopping\n",
    "from tensorflow.keras.metrics import Metric"
   ]
  },
  {
   "cell_type": "code",
   "execution_count": 10,
   "metadata": {},
   "outputs": [],
   "source": [
    "gpu_options = tf.compat.v1.GPUOptions(per_process_gpu_memory_fraction=0.3)\n",
    "sess = tf.compat.v1.Session(config=tf.compat.v1.ConfigProto(gpu_options=gpu_options))\n",
    "tf.compat.v1.keras.backend.set_session(sess)"
   ]
  },
  {
   "cell_type": "code",
   "execution_count": 11,
   "metadata": {},
   "outputs": [],
   "source": [
    "# Helper: Early stopping.\n",
    "early_stopper = EarlyStopping(patience=5)"
   ]
  },
  {
   "cell_type": "code",
   "execution_count": null,
   "metadata": {},
   "outputs": [],
   "source": [
    "from sklearn.preprocessing import MinMaxScaler\n",
    "sc = MinMaxScaler(feature_range = (0, 1))"
   ]
  },
  {
   "cell_type": "code",
   "execution_count": 12,
   "metadata": {},
   "outputs": [],
   "source": [
    "# Customized performance indicator - DINKLE_Accuracy\n",
    "class DINKLE_Accuracy(Metric):\n",
    "\n",
    "    def __init__(self, name=\"DINKLE_Accuracy\", **kwargs):\n",
    "        super(Metric, self).__init__(name=name, **kwargs)\n",
    "#         self.total_count = self.add_weight(name = \"total_count\", initializer=init_ops.zeros_initializer)\n",
    "#         self.match_count = self.add_weight(name = \"match_count\", initializer=init_ops.zeros_initializer)\n",
    "        self.matches_rate = self.add_weight(name = \"matches_rate\", initializer=\"zeros\")\n",
    "\n",
    "    def update_state(self, y_true, y_pred, sample_weight=None):\n",
    "        \n",
    "#         y_true = tf.convert_to_tensor(sc.inverse_transform(y_true))\n",
    "#         y_pred = tf.convert_to_tensor(sc.inverse_transform(y_pred))\n",
    "            \n",
    "        match_count = tf.reduce_sum(tf.cast(tf.less_equal(tf.abs(y_true- y_pred), 0.02), dtype = tf.float32))\n",
    "        total_count = y_true.shape[0]\n",
    "        self.matches_rate = math_ops.div_no_nan(match_count, total_count)\n",
    "\n",
    "         \n",
    "    def result(self):\n",
    "        return  self.matches_rate\n",
    "    \n",
    "    def reset_state(self):\n",
    "        self.matches_rate = tf.zeros(shape=(1, 1))"
   ]
  },
  {
   "cell_type": "code",
   "execution_count": 3,
   "metadata": {},
   "outputs": [],
   "source": [
    "# def get_cifar10():\n",
    "#     \"\"\"Retrieve the CIFAR dataset and process the data.\"\"\"\n",
    "#     # Set defaults.\n",
    "#     nb_classes = 10\n",
    "#     batch_size = 64\n",
    "#     input_shape = (3072,)\n",
    "\n",
    "#     # Get the data.\n",
    "#     (x_train, y_train), (x_test, y_test) = cifar10.load_data()\n",
    "#     x_train = x_train.reshape(50000, 3072)\n",
    "#     x_test = x_test.reshape(10000, 3072)\n",
    "#     x_train = x_train.astype('float32')\n",
    "#     x_test = x_test.astype('float32')\n",
    "#     x_train /= 255\n",
    "#     x_test /= 255\n",
    "\n",
    "#     # convert class vectors to binary class matrices\n",
    "#     y_train = to_categorical(y_train, nb_classes)\n",
    "#     y_test = to_categorical(y_test, nb_classes)\n",
    "\n",
    "#     return (nb_classes, batch_size, input_shape, x_train, x_test, y_train, y_test)"
   ]
  },
  {
   "cell_type": "code",
   "execution_count": 4,
   "metadata": {},
   "outputs": [],
   "source": [
    "# def get_mnist():\n",
    "#     \"\"\"Retrieve the MNIST dataset and process the data.\"\"\"\n",
    "#     # Set defaults.\n",
    "#     nb_classes = 10\n",
    "#     batch_size = 128\n",
    "#     input_shape = (784,)\n",
    "\n",
    "#     # Get the data.\n",
    "#     (x_train, y_train), (x_test, y_test) = mnist.load_data()\n",
    "#     x_train = x_train.reshape(60000, 784)\n",
    "#     x_test = x_test.reshape(10000, 784)\n",
    "#     x_train = x_train.astype('float32')\n",
    "#     x_test = x_test.astype('float32')\n",
    "#     x_train /= 255\n",
    "#     x_test /= 255\n",
    "\n",
    "#     # convert class vectors to binary class matrices\n",
    "#     y_train = to_categorical(y_train, nb_classes)\n",
    "#     y_test = to_categorical(y_test, nb_classes)\n",
    "\n",
    "#     return (nb_classes, batch_size, input_shape, x_train, x_test, y_train, y_test)"
   ]
  },
  {
   "cell_type": "code",
   "execution_count": 13,
   "metadata": {},
   "outputs": [],
   "source": [
    "def read(path):\n",
    "    return pd.read_csv(path)"
   ]
  },
  {
   "cell_type": "code",
   "execution_count": 14,
   "metadata": {},
   "outputs": [],
   "source": [
    "def buildTrain(train, pastWeek=4, futureWeek=1, defaultWeek=1):\n",
    "    X_train, Y_train = [], []\n",
    "    for i in range(train.shape[0]-futureWeek-pastWeek):\n",
    "        X = np.array(train.iloc[i:i+defaultWeek])\n",
    "        X = np.append(X,train[\"CCSP\"].iloc[i+defaultWeek:i+pastWeek])\n",
    "        X_train.append(X.reshape(X.size))\n",
    "        Y_train.append(np.array(train.iloc[i+pastWeek:i+pastWeek+futureWeek][\"CCSP\"]))\n",
    "    return np.array(X_train), np.array(Y_train)"
   ]
  },
  {
   "cell_type": "code",
   "execution_count": 16,
   "metadata": {},
   "outputs": [],
   "source": [
    "def get_data():\n",
    "    \n",
    "    ## Read weekly copper price data\n",
    "    path = \"WeeklyFinalData.csv\"\n",
    "    data = read(path)\n",
    "    \n",
    "    date = data[\"Date\"]\n",
    "    data.drop(\"Date\", axis=1, inplace=True)\n",
    "    \n",
    "    ## Add time lag (pastWeek=4, futureWeek=1)\n",
    "    x_data, y_data = buildTrain(data)\n",
    "    \n",
    "    ## Data split\n",
    "    x_train = x_data[0:int(x_data.shape[0]*0.8)]\n",
    "    x_test = x_data[int(x_data.shape[0]*0.8):]\n",
    "    \n",
    "    y_train = y_data[0:int(y_data.shape[0]*0.8)]\n",
    "    y_test = y_data[int(y_data.shape[0]*0.8):]\n",
    "    \n",
    "    ## Normalize\n",
    "    x_train_scaled = sc.fit_transform(x_train)\n",
    "    x_test_scaled = sc.transform(x_test)\n",
    "    \n",
    "    y_train_scaled = sc.fit_transform(y_train)\n",
    "    y_test_scaled = sc.transform(y_test)\n",
    "    \n",
    "    ## Other information\n",
    "    nb_output = 1\n",
    "    batch_size = 10\n",
    "    input_shape = (data.shape[1],)\n",
    "    \n",
    "    return (nb_output, batch_size, input_shape, x_train_scaled, x_test_scaled, y_train_scaled, y_test_scaled)"
   ]
  },
  {
   "cell_type": "code",
   "execution_count": 5,
   "metadata": {},
   "outputs": [],
   "source": [
    "def compile_model(network, nb_output, input_shape):\n",
    "    \"\"\"Compile a sequential model.\n",
    "\n",
    "    Args:\n",
    "        network (dict): the parameters of the network\n",
    "\n",
    "    Returns:\n",
    "        a compiled network.\n",
    "\n",
    "    \"\"\"\n",
    "    # Get our network parameters.\n",
    "    nb_layers = network['nb_layers']\n",
    "    nb_neurons = network['nb_neurons']\n",
    "    activation = network['activation']\n",
    "    optimizer = network['optimizer']\n",
    "\n",
    "    model = Sequential()\n",
    "\n",
    "    # Add each layer.\n",
    "    for i in range(nb_layers):\n",
    "\n",
    "        # Need input shape for first layer.\n",
    "        if i == 0:\n",
    "            model.add(Dense(nb_neurons, activation=activation, input_shape=input_shape))\n",
    "        else:\n",
    "            model.add(Dense(nb_neurons, activation=activation))\n",
    "\n",
    "        model.add(Dropout(0.2))  # hard-coded dropout\n",
    "\n",
    "    # Output layer.\n",
    "    model.add(Dense(nb_output))\n",
    "\n",
    "    model.compile(loss='mean_squared_error', \n",
    "                  optimizer=optimizer,\n",
    "                  metrics=[DINKLE_Accuracy()])\n",
    "\n",
    "    return model"
   ]
  },
  {
   "cell_type": "code",
   "execution_count": 17,
   "metadata": {},
   "outputs": [],
   "source": [
    "def train_and_score(network):\n",
    "    \"\"\"Train the model, return test loss.\n",
    "\n",
    "    Args:\n",
    "        network (dict): the parameters of the network\n",
    "        dataset (str): Dataset to use for training/evaluating\n",
    "\n",
    "    \"\"\"\n",
    "#     if dataset == 'cifar10':\n",
    "#         nb_classes, batch_size, input_shape, x_train, \\\n",
    "#             x_test, y_train, y_test = get_cifar10()\n",
    "#     elif dataset == 'mnist':\n",
    "#         nb_classes, batch_size, input_shape, x_train, \\\n",
    "#             x_test, y_train, y_test = get_mnist()\n",
    "\n",
    "    nb_output, batch_size, input_shape, x_train, x_test, y_train, y_test = get_data()\n",
    "    \n",
    "    model = compile_model(network, nb_output, input_shape)\n",
    "\n",
    "    model.fit(x_train, y_train,\n",
    "              batch_size=batch_size,\n",
    "              epochs=10000,  # using early stopping, so no real limit\n",
    "              verbose=1,\n",
    "              validation_data=(x_test, y_test),\n",
    "              callbacks=[early_stopper],\n",
    "              metrics=[DINKLE_Accuracy()])\n",
    "\n",
    "    score = model.evaluate(x_test, y_test, verbose=0)\n",
    "\n",
    "    return score[1]  # 1 is accuracy. 0 is loss."
   ]
  }
 ],
 "metadata": {
  "kernelspec": {
   "display_name": "Python 3",
   "language": "python",
   "name": "python3"
  },
  "language_info": {
   "codemirror_mode": {
    "name": "ipython",
    "version": 3
   },
   "file_extension": ".py",
   "mimetype": "text/x-python",
   "name": "python",
   "nbconvert_exporter": "python",
   "pygments_lexer": "ipython3",
   "version": "3.6.9"
  }
 },
 "nbformat": 4,
 "nbformat_minor": 4
}
